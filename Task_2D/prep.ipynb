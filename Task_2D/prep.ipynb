{
 "cells": [
  {
   "cell_type": "code",
   "execution_count": 1,
   "metadata": {},
   "outputs": [],
   "source": [
    "import pandas as pd "
   ]
  },
  {
   "cell_type": "code",
   "execution_count": 47,
   "metadata": {},
   "outputs": [
    {
     "data": {
      "text/plain": [
       "{'11': ['39.6128542', '-74.3629792'],\n",
       " '14': ['39.6130113', '-74.3629026'],\n",
       " '13': ['39.6132182', '-74.3628642'],\n",
       " '18': ['39.6133943', '-74.3628174'],\n",
       " '19': ['39.61354', '-74.3627608'],\n",
       " '20': ['39.6137546', '-74.3626727'],\n",
       " '23': ['39.6139079', '-74.3626152'],\n",
       " '21': ['39.6139539', '-74.3625615'],\n",
       " '22': ['39.6139424', '-74.362393'],\n",
       " '33': ['39.613904', '-74.3621746'],\n",
       " '30': ['39.6138389', '-74.3619025'],\n",
       " '35': ['39.6137947', '-74.3617297'],\n",
       " '32': ['39.6137623', '-74.3615538'],\n",
       " '31': ['39.6137163', '-74.3613354'],\n",
       " '34': ['39.6136473', '-74.3610787'],\n",
       " '40': ['39.6134711', '-74.3609714'],\n",
       " '36': ['39.6133025', '-74.3610366'],\n",
       " '38': ['39.6131799', '-74.3610826'],\n",
       " '37': ['39.6130458', '-74.3611247'],\n",
       " '39': ['39.6129078', '-74.3611592'],\n",
       " '41': ['39.6127776', '-74.3612473'],\n",
       " '50': ['39.6126818', '-74.3612875'],\n",
       " '4': ['39.6126473', '-74.3613565'],\n",
       " '6': ['39.612632', '-74.3614983'],\n",
       " '52': ['39.6126933', '-74.3616784'],\n",
       " '7': ['39.6127316', '-74.3618814'],\n",
       " '8': ['39.6127546', '-74.3620845'],\n",
       " '1': ['39.6128235', '-74.3623451'],\n",
       " '2': ['39.6128389', '-74.3625328'],\n",
       " '10': ['39.6131607', '-74.3626612'],\n",
       " '9': ['39.6131416', '-74.3625156'],\n",
       " '51': ['39.6130956', '-74.3622359'],\n",
       " '53': ['39.6130036', '-74.3618029'],\n",
       " '0': ['39.6129155', '-74.3613393'],\n",
       " '3': ['39.6134519', '-74.3624428'],\n",
       " '5': ['39.6133906', '-74.3621286'],\n",
       " '54': ['39.6133638', '-74.3619102'],\n",
       " '25': ['39.6132795', '-74.3616113'],\n",
       " '28': ['39.6132067', '-74.3612588'],\n",
       " '17': ['39.6137086', '-74.3625539'],\n",
       " '12': ['39.6136818', '-74.3624121'],\n",
       " '15': ['39.6136358', '-74.3621937'],\n",
       " '16': ['39.6135745', '-74.3619255'],\n",
       " '27': ['39.6135285', '-74.3617148'],\n",
       " '26': ['39.6135056', '-74.3615692'],\n",
       " '24': ['39.6134481', '-74.3613048'],\n",
       " '29': ['39.6134136', '-74.3611668'],\n",
       " 'id': ['lat', 'lon']}"
      ]
     },
     "execution_count": 47,
     "metadata": {},
     "output_type": "execute_result"
    }
   ],
   "source": [
    "df = pd.read_csv(\"lat_long.csv\",names=['id','lat','lon'])\n",
    "lat_lon = {}\n",
    "for i in range(1,df.shape[0]):\n",
    "    #print(df.iloc[i])\n",
    "    id,lat,lon = df.iloc[i]\n",
    "    lat_lon[id] = [lat,lon]\n",
    "\n",
    "lat_lon[df.iloc[0][0]] = [df.iloc[0][1],df.iloc[0][2]]\n",
    "lat_lon"
   ]
  },
  {
   "cell_type": "code",
   "execution_count": 45,
   "metadata": {},
   "outputs": [
    {
     "data": {
      "text/plain": [
       "{11: [39.6128542, -74.3629792],\n",
       " 14: [39.6130113, -74.3629026],\n",
       " 13: [39.6132182, -74.3628642],\n",
       " 18: [39.6133943, -74.3628174],\n",
       " 19: [39.61354, -74.3627608],\n",
       " 20: [39.6137546, -74.3626727],\n",
       " 23: [39.6139079, -74.3626152],\n",
       " 21: [39.6139539, -74.3625615],\n",
       " 22: [39.6139424, -74.362393],\n",
       " 33: [39.613904, -74.3621746],\n",
       " 30: [39.6138389, -74.3619025],\n",
       " 35: [39.6137947, -74.3617297],\n",
       " 32: [39.6137623, -74.3615538],\n",
       " 31: [39.6137163, -74.3613354],\n",
       " 34: [39.6136473, -74.3610787],\n",
       " 40: [39.6134711, -74.3609714],\n",
       " 36: [39.6133025, -74.3610366],\n",
       " 38: [39.6131799, -74.3610826],\n",
       " 37: [39.6130458, -74.3611247],\n",
       " 39: [39.6129078, -74.3611592],\n",
       " 41: [39.6127776, -74.3612473],\n",
       " 50: [39.6126818, -74.3612875],\n",
       " 4: [39.6126473, -74.3613565],\n",
       " 6: [39.612632, -74.3614983],\n",
       " 52: [39.6126933, -74.3616784],\n",
       " 7: [39.6127316, -74.3618814],\n",
       " 8: [39.6127546, -74.3620845],\n",
       " 1: [39.6128235, -74.3623451],\n",
       " 2: [39.6128389, -74.3625328],\n",
       " 10: [39.6131607, -74.3626612],\n",
       " 9: [39.6131416, -74.3625156],\n",
       " 51: [39.6130956, -74.3622359],\n",
       " 53: [39.6130036, -74.3618029],\n",
       " 0: [39.6129155, -74.3613393],\n",
       " 3: [39.6134519, -74.3624428],\n",
       " 5: [39.6133906, -74.3621286],\n",
       " 54: [39.6133638, -74.3619102],\n",
       " 25: [39.6132795, -74.3616113],\n",
       " 28: [39.6132067, -74.3612588],\n",
       " 17: [39.6137086, -74.3625539],\n",
       " 12: [39.6136818, -74.3624121],\n",
       " 15: [39.6136358, -74.3621937],\n",
       " 16: [39.6135745, -74.3619255],\n",
       " 27: [39.6135285, -74.3617148],\n",
       " 26: [39.6135056, -74.3615692],\n",
       " 24: [39.6134481, -74.3613048],\n",
       " 29: [39.6134136, -74.3611668],\n",
       " 'id': ['lat', 'lon']}"
      ]
     },
     "execution_count": 45,
     "metadata": {},
     "output_type": "execute_result"
    }
   ],
   "source": [
    "lat_lon = {}\n",
    "for i in range(1,df.shape[0]):\n",
    "    #print(df.iloc[i])\n",
    "    id,lat,lon = df.iloc[i]\n",
    "    lat_lon[int(id)] = [float(lat),float(lon)]\n",
    "\n",
    "lat_lon[df.iloc[0][0]] = [df.iloc[0][1],df.iloc[0][2]]\n",
    "lat_lon"
   ]
  },
  {
   "cell_type": "code",
   "execution_count": 7,
   "metadata": {},
   "outputs": [
    {
     "data": {
      "text/plain": [
       "id       int64\n",
       "lat    float64\n",
       "lon    float64\n",
       "dtype: object"
      ]
     },
     "execution_count": 7,
     "metadata": {},
     "output_type": "execute_result"
    }
   ],
   "source": [
    "df.dtypes"
   ]
  },
  {
   "cell_type": "code",
   "execution_count": 21,
   "metadata": {},
   "outputs": [
    {
     "data": {
      "text/html": [
       "<div>\n",
       "<style scoped>\n",
       "    .dataframe tbody tr th:only-of-type {\n",
       "        vertical-align: middle;\n",
       "    }\n",
       "\n",
       "    .dataframe tbody tr th {\n",
       "        vertical-align: top;\n",
       "    }\n",
       "\n",
       "    .dataframe thead th {\n",
       "        text-align: right;\n",
       "    }\n",
       "</style>\n",
       "<table border=\"1\" class=\"dataframe\">\n",
       "  <thead>\n",
       "    <tr style=\"text-align: right;\">\n",
       "      <th></th>\n",
       "      <th>id</th>\n",
       "      <th>lat</th>\n",
       "      <th>lon</th>\n",
       "    </tr>\n",
       "  </thead>\n",
       "  <tbody>\n",
       "    <tr>\n",
       "      <th>42</th>\n",
       "      <td>41</td>\n",
       "      <td>114.613574</td>\n",
       "      <td>-49.361925</td>\n",
       "    </tr>\n",
       "    <tr>\n",
       "      <th>43</th>\n",
       "      <td>52</td>\n",
       "      <td>114.613529</td>\n",
       "      <td>-49.361715</td>\n",
       "    </tr>\n",
       "    <tr>\n",
       "      <th>44</th>\n",
       "      <td>51</td>\n",
       "      <td>114.613506</td>\n",
       "      <td>-49.361569</td>\n",
       "    </tr>\n",
       "    <tr>\n",
       "      <th>45</th>\n",
       "      <td>49</td>\n",
       "      <td>114.613448</td>\n",
       "      <td>-49.361305</td>\n",
       "    </tr>\n",
       "    <tr>\n",
       "      <th>46</th>\n",
       "      <td>54</td>\n",
       "      <td>114.613414</td>\n",
       "      <td>-49.361167</td>\n",
       "    </tr>\n",
       "  </tbody>\n",
       "</table>\n",
       "</div>"
      ],
      "text/plain": [
       "    id         lat        lon\n",
       "42  41  114.613574 -49.361925\n",
       "43  52  114.613529 -49.361715\n",
       "44  51  114.613506 -49.361569\n",
       "45  49  114.613448 -49.361305\n",
       "46  54  114.613414 -49.361167"
      ]
     },
     "execution_count": 21,
     "metadata": {},
     "output_type": "execute_result"
    }
   ],
   "source": [
    "df[\"lat\"] = df[\"lat\"] + 25\n",
    "df[\"lon\"] = df[\"lon\"] + 25\n",
    "df[\"id\"] = df[\"id\"] + 25\n",
    "df.tail(5)"
   ]
  },
  {
   "cell_type": "code",
   "execution_count": 23,
   "metadata": {},
   "outputs": [
    {
     "data": {
      "text/plain": [
       "(47, 3)"
      ]
     },
     "execution_count": 23,
     "metadata": {},
     "output_type": "execute_result"
    }
   ],
   "source": [
    "df.shape"
   ]
  },
  {
   "cell_type": "code",
   "execution_count": 34,
   "metadata": {},
   "outputs": [
    {
     "data": {
      "text/plain": [
       "(48, 3)"
      ]
     },
     "execution_count": 34,
     "metadata": {},
     "output_type": "execute_result"
    }
   ],
   "source": [
    "df.shape"
   ]
  },
  {
   "cell_type": "code",
   "execution_count": 43,
   "metadata": {},
   "outputs": [
    {
     "name": "stdout",
     "output_type": "stream",
     "text": [
      "<class 'str'> <class 'str'>\n",
      "<class 'str'> <class 'str'>\n",
      "<class 'str'> <class 'str'>\n",
      "<class 'str'> <class 'str'>\n",
      "<class 'str'> <class 'str'>\n",
      "<class 'str'> <class 'str'>\n",
      "<class 'str'> <class 'str'>\n",
      "<class 'str'> <class 'str'>\n",
      "<class 'str'> <class 'str'>\n",
      "<class 'str'> <class 'str'>\n",
      "<class 'str'> <class 'str'>\n",
      "<class 'str'> <class 'str'>\n",
      "<class 'str'> <class 'str'>\n",
      "<class 'str'> <class 'str'>\n",
      "<class 'str'> <class 'str'>\n",
      "<class 'str'> <class 'str'>\n",
      "<class 'str'> <class 'str'>\n",
      "<class 'str'> <class 'str'>\n",
      "<class 'str'> <class 'str'>\n",
      "<class 'str'> <class 'str'>\n",
      "<class 'str'> <class 'str'>\n",
      "<class 'str'> <class 'str'>\n",
      "<class 'str'> <class 'str'>\n",
      "<class 'str'> <class 'str'>\n",
      "<class 'str'> <class 'str'>\n",
      "<class 'str'> <class 'str'>\n",
      "<class 'str'> <class 'str'>\n",
      "<class 'str'> <class 'str'>\n",
      "<class 'str'> <class 'str'>\n",
      "<class 'str'> <class 'str'>\n",
      "<class 'str'> <class 'str'>\n",
      "<class 'str'> <class 'str'>\n",
      "<class 'str'> <class 'str'>\n",
      "<class 'str'> <class 'str'>\n",
      "<class 'str'> <class 'str'>\n",
      "<class 'str'> <class 'str'>\n",
      "<class 'str'> <class 'str'>\n",
      "<class 'str'> <class 'str'>\n",
      "<class 'str'> <class 'str'>\n",
      "<class 'str'> <class 'str'>\n",
      "<class 'str'> <class 'str'>\n",
      "<class 'str'> <class 'str'>\n",
      "<class 'str'> <class 'str'>\n",
      "<class 'str'> <class 'str'>\n",
      "<class 'str'> <class 'str'>\n",
      "<class 'str'> <class 'str'>\n",
      "<class 'str'> <class 'str'>\n",
      "<class 'str'> <class 'str'>\n"
     ]
    }
   ],
   "source": [
    "for key,value in lat_lon.items():\n",
    "    print(type(key),type(value[0]))"
   ]
  },
  {
   "cell_type": "code",
   "execution_count": 7,
   "metadata": {},
   "outputs": [],
   "source": [
    "def write_csv(loc, csv_name):\n",
    "\n",
    "    # open csv (csv_name)\n",
    "    # write column names \"lat\", \"lon\"\n",
    "    # write loc ([lat, lon]) in respective columns\n",
    "\n",
    "    \n",
    "    lat,lon = loc \n",
    "    with open(csv_name, 'w', newline='') as csvfile:\n",
    "        writer = csv.writer(csvfile)\n",
    "\n",
    "        \n",
    "        header = ['lat', 'lon'] \n",
    "        writer.writerow(header)\n",
    "\n",
    "        data = [lat,lon]  \n",
    "        writer.writerow(data)"
   ]
  },
  {
   "cell_type": "code",
   "execution_count": 2,
   "metadata": {},
   "outputs": [],
   "source": [
    "import os\n",
    "import csv\n"
   ]
  },
  {
   "cell_type": "code",
   "execution_count": 9,
   "metadata": {},
   "outputs": [],
   "source": [
    "write_csv([4,5],\"live_ll.csv\")"
   ]
  },
  {
   "cell_type": "code",
   "execution_count": null,
   "metadata": {},
   "outputs": [],
   "source": []
  }
 ],
 "metadata": {
  "kernelspec": {
   "display_name": "GG_1289",
   "language": "python",
   "name": "python3"
  },
  "language_info": {
   "codemirror_mode": {
    "name": "ipython",
    "version": 3
   },
   "file_extension": ".py",
   "mimetype": "text/x-python",
   "name": "python",
   "nbconvert_exporter": "python",
   "pygments_lexer": "ipython3",
   "version": "3.9.18"
  }
 },
 "nbformat": 4,
 "nbformat_minor": 2
}
