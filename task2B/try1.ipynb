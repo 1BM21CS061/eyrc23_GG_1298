{
 "cells": [
  {
   "cell_type": "markdown",
   "metadata": {
    "colab_type": "text",
    "id": "3DR-eO17geWu"
   },
   "source": [
    "# Convolutional Neural Network"
   ]
  },
  {
   "cell_type": "markdown",
   "metadata": {
    "colab_type": "text",
    "id": "EMefrVPCg-60"
   },
   "source": [
    "### Importing the libraries"
   ]
  },
  {
   "cell_type": "code",
   "execution_count": 1,
   "metadata": {
    "colab": {},
    "colab_type": "code",
    "id": "sCV30xyVhFbE"
   },
   "outputs": [],
   "source": [
    "import tensorflow as tf\n",
    "from keras.preprocessing.image import ImageDataGenerator"
   ]
  },
  {
   "cell_type": "code",
   "execution_count": 2,
   "metadata": {
    "colab": {},
    "colab_type": "code",
    "id": "FIleuCAjoFD8"
   },
   "outputs": [
    {
     "data": {
      "text/plain": [
       "'2.12.0-rc1'"
      ]
     },
     "execution_count": 2,
     "metadata": {},
     "output_type": "execute_result"
    }
   ],
   "source": [
    "tf.__version__"
   ]
  },
  {
   "cell_type": "markdown",
   "metadata": {
    "colab_type": "text",
    "id": "oxQxCBWyoGPE"
   },
   "source": [
    "## Part 1 - Data Preprocessing"
   ]
  },
  {
   "cell_type": "markdown",
   "metadata": {
    "colab_type": "text",
    "id": "MvE-heJNo3GG"
   },
   "source": [
    "### Preprocessing the Training set"
   ]
  },
  {
   "cell_type": "code",
   "execution_count": 30,
   "metadata": {
    "colab": {},
    "colab_type": "code",
    "id": "0koUcJMJpEBD"
   },
   "outputs": [
    {
     "name": "stdout",
     "output_type": "stream",
     "text": [
      "Found 8000 images belonging to 2 classes.\n"
     ]
    }
   ],
   "source": [
    "train_datagen = ImageDataGenerator(rescale = 1./255,\n",
    "                                   shear_range = 0.2,\n",
    "                                   zoom_range = 0.2,\n",
    "                                   horizontal_flip = True)\n",
    "training_set = train_datagen.flow_from_directory('dataset/training_set',\n",
    "                                                 target_size = (64, 64),\n",
    "                                                 batch_size = 32,\n",
    "                                                 class_mode = 'binary')"
   ]
  },
  {
   "cell_type": "code",
   "execution_count": 31,
   "metadata": {},
   "outputs": [
    {
     "name": "stdout",
     "output_type": "stream",
     "text": [
      "Found 350 images belonging to 5 classes.\n"
     ]
    }
   ],
   "source": [
    "train_datagen1 = ImageDataGenerator(rescale = 1./255,\n",
    "                                   shear_range = 0.2,\n",
    "                                   zoom_range = 0.2,\n",
    "                                   horizontal_flip = True)\n",
    "trainingSet = train_datagen1.flow_from_directory('dataset/train',\n",
    "                                                 target_size = (64, 64),\n",
    "                                                 batch_size = 32,\n",
    "                                                 class_mode = 'categorical')"
   ]
  },
  {
   "cell_type": "markdown",
   "metadata": {
    "colab_type": "text",
    "id": "mrCMmGw9pHys"
   },
   "source": [
    "### Preprocessing the Test set"
   ]
  },
  {
   "cell_type": "code",
   "execution_count": 32,
   "metadata": {
    "colab": {},
    "colab_type": "code",
    "id": "SH4WzfOhpKc3"
   },
   "outputs": [
    {
     "name": "stdout",
     "output_type": "stream",
     "text": [
      "Found 2000 images belonging to 2 classes.\n"
     ]
    }
   ],
   "source": [
    "test_datagen = ImageDataGenerator(rescale = 1./255)\n",
    "test_set = test_datagen.flow_from_directory('dataset/test_set',\n",
    "                                            target_size = (64, 64),\n",
    "                                            batch_size = 32,\n",
    "                                            class_mode = 'binary')"
   ]
  },
  {
   "cell_type": "code",
   "execution_count": 33,
   "metadata": {},
   "outputs": [
    {
     "name": "stdout",
     "output_type": "stream",
     "text": [
      "Found 50 images belonging to 5 classes.\n"
     ]
    }
   ],
   "source": [
    "test_datagen1 = ImageDataGenerator(rescale = 1./255)\n",
    "testSet = test_datagen1.flow_from_directory('dataset/test',\n",
    "                                            target_size = (64, 64),\n",
    "                                            batch_size = 32,\n",
    "                                            class_mode = 'categorical')"
   ]
  },
  {
   "cell_type": "markdown",
   "metadata": {
    "colab_type": "text",
    "id": "af8O4l90gk7B"
   },
   "source": [
    "## Part 2 - Building the CNN"
   ]
  },
  {
   "cell_type": "markdown",
   "metadata": {
    "colab_type": "text",
    "id": "ces1gXY2lmoX"
   },
   "source": [
    "### Initialising the CNN"
   ]
  },
  {
   "cell_type": "code",
   "execution_count": 55,
   "metadata": {
    "colab": {},
    "colab_type": "code",
    "id": "SAUt4UMPlhLS"
   },
   "outputs": [],
   "source": [
    "cnn = tf.keras.models.Sequential()\n",
    "cnn2 = tf.keras.models.Sequential()"
   ]
  },
  {
   "cell_type": "markdown",
   "metadata": {
    "colab_type": "text",
    "id": "u5YJj_XMl5LF"
   },
   "source": [
    "### Step 1 - Convolution"
   ]
  },
  {
   "cell_type": "code",
   "execution_count": 56,
   "metadata": {
    "colab": {},
    "colab_type": "code",
    "id": "XPzPrMckl-hV"
   },
   "outputs": [],
   "source": [
    "cnn.add(tf.keras.layers.Conv2D(filters=32, kernel_size=3, activation='relu', input_shape=[64, 64, 3]))\n",
    "cnn2.add(tf.keras.layers.Conv2D(filters=32, kernel_size=3, activation='relu', input_shape=[64, 64, 3]))"
   ]
  },
  {
   "cell_type": "markdown",
   "metadata": {
    "colab_type": "text",
    "id": "tf87FpvxmNOJ"
   },
   "source": [
    "### Step 2 - Pooling"
   ]
  },
  {
   "cell_type": "code",
   "execution_count": 57,
   "metadata": {
    "colab": {},
    "colab_type": "code",
    "id": "ncpqPl69mOac"
   },
   "outputs": [],
   "source": [
    "cnn.add(tf.keras.layers.MaxPool2D(pool_size=2, strides=2))\n",
    "cnn2.add(tf.keras.layers.MaxPool2D(pool_size=2, strides=2))"
   ]
  },
  {
   "cell_type": "markdown",
   "metadata": {
    "colab_type": "text",
    "id": "xaTOgD8rm4mU"
   },
   "source": [
    "### Adding a second convolutional layer"
   ]
  },
  {
   "cell_type": "code",
   "execution_count": 58,
   "metadata": {
    "colab": {},
    "colab_type": "code",
    "id": "i_-FZjn_m8gk"
   },
   "outputs": [],
   "source": [
    "cnn.add(tf.keras.layers.Conv2D(filters=32, kernel_size=3, activation='relu'))\n",
    "cnn.add(tf.keras.layers.MaxPool2D(pool_size=2, strides=2))\n",
    "\n",
    "cnn2.add(tf.keras.layers.Conv2D(filters=32, kernel_size=3, activation='relu'))\n",
    "cnn2.add(tf.keras.layers.MaxPool2D(pool_size=2, strides=2))"
   ]
  },
  {
   "cell_type": "markdown",
   "metadata": {
    "colab_type": "text",
    "id": "tmiEuvTunKfk"
   },
   "source": [
    "### Step 3 - Flattening"
   ]
  },
  {
   "cell_type": "code",
   "execution_count": 59,
   "metadata": {
    "colab": {},
    "colab_type": "code",
    "id": "6AZeOGCvnNZn"
   },
   "outputs": [],
   "source": [
    "cnn.add(tf.keras.layers.Flatten())\n",
    "cnn2.add(tf.keras.layers.Flatten())"
   ]
  },
  {
   "cell_type": "markdown",
   "metadata": {
    "colab_type": "text",
    "id": "dAoSECOm203v"
   },
   "source": [
    "### Step 4 - Full Connection"
   ]
  },
  {
   "cell_type": "code",
   "execution_count": 60,
   "metadata": {
    "colab": {},
    "colab_type": "code",
    "id": "8GtmUlLd26Nq"
   },
   "outputs": [],
   "source": [
    "cnn.add(tf.keras.layers.Dense(units=128, activation='relu'))\n",
    "cnn2.add(tf.keras.layers.Dense(units=128, activation='relu'))"
   ]
  },
  {
   "cell_type": "markdown",
   "metadata": {
    "colab_type": "text",
    "id": "yTldFvbX28Na"
   },
   "source": [
    "### Step 5 - Output Layer"
   ]
  },
  {
   "cell_type": "code",
   "execution_count": 40,
   "metadata": {
    "colab": {},
    "colab_type": "code",
    "id": "1p_Zj1Mc3Ko_"
   },
   "outputs": [],
   "source": [
    "cnn.add(tf.keras.layers.Dense(units=1, activation='sigmoid'))"
   ]
  },
  {
   "cell_type": "code",
   "execution_count": 61,
   "metadata": {},
   "outputs": [],
   "source": [
    "cnn2.add(tf.keras.layers.Dense(units=5, activation='softmax'))"
   ]
  },
  {
   "cell_type": "markdown",
   "metadata": {
    "colab_type": "text",
    "id": "D6XkI90snSDl"
   },
   "source": [
    "## Part 3 - Training the CNN"
   ]
  },
  {
   "cell_type": "markdown",
   "metadata": {
    "colab_type": "text",
    "id": "vfrFQACEnc6i"
   },
   "source": [
    "### Compiling the CNN"
   ]
  },
  {
   "cell_type": "code",
   "execution_count": 62,
   "metadata": {
    "colab": {},
    "colab_type": "code",
    "id": "NALksrNQpUlJ"
   },
   "outputs": [],
   "source": [
    "cnn.compile(optimizer = 'adam', loss = 'binary_crossentropy', metrics = ['accuracy'])\n",
    "cnn2.compile(optimizer = 'adam', loss = 'categorical_crossentropy', metrics = ['accuracy'])"
   ]
  },
  {
   "cell_type": "markdown",
   "metadata": {
    "colab_type": "text",
    "id": "ehS-v3MIpX2h"
   },
   "source": [
    "### Training the CNN on the Training set and evaluating it on the Test set"
   ]
  },
  {
   "cell_type": "code",
   "execution_count": 43,
   "metadata": {
    "colab": {},
    "colab_type": "code",
    "id": "XUj1W4PJptta"
   },
   "outputs": [
    {
     "name": "stdout",
     "output_type": "stream",
     "text": [
      "Epoch 1/25\n",
      "250/250 [==============================] - 47s 185ms/step - loss: 0.6676 - accuracy: 0.5981 - val_loss: 0.6183 - val_accuracy: 0.6630\n",
      "Epoch 2/25\n",
      "250/250 [==============================] - 27s 109ms/step - loss: 0.6012 - accuracy: 0.6761 - val_loss: 0.5627 - val_accuracy: 0.7190\n",
      "Epoch 3/25\n",
      "250/250 [==============================] - 30s 120ms/step - loss: 0.5488 - accuracy: 0.7203 - val_loss: 0.5247 - val_accuracy: 0.7460\n",
      "Epoch 4/25\n",
      "250/250 [==============================] - 30s 120ms/step - loss: 0.5161 - accuracy: 0.7504 - val_loss: 0.4955 - val_accuracy: 0.7645\n",
      "Epoch 5/25\n",
      "250/250 [==============================] - 27s 107ms/step - loss: 0.5008 - accuracy: 0.7582 - val_loss: 0.4937 - val_accuracy: 0.7710\n",
      "Epoch 6/25\n",
      "250/250 [==============================] - 25s 100ms/step - loss: 0.4666 - accuracy: 0.7765 - val_loss: 0.4819 - val_accuracy: 0.7785\n",
      "Epoch 7/25\n",
      "250/250 [==============================] - 25s 98ms/step - loss: 0.4553 - accuracy: 0.7851 - val_loss: 0.5167 - val_accuracy: 0.7545\n",
      "Epoch 8/25\n",
      "250/250 [==============================] - 25s 98ms/step - loss: 0.4418 - accuracy: 0.7916 - val_loss: 0.4990 - val_accuracy: 0.7650\n",
      "Epoch 9/25\n",
      "250/250 [==============================] - 25s 99ms/step - loss: 0.4240 - accuracy: 0.8036 - val_loss: 0.4461 - val_accuracy: 0.7930\n",
      "Epoch 10/25\n",
      "250/250 [==============================] - 26s 103ms/step - loss: 0.4116 - accuracy: 0.8124 - val_loss: 0.4702 - val_accuracy: 0.7840\n",
      "Epoch 11/25\n",
      "250/250 [==============================] - 26s 104ms/step - loss: 0.3914 - accuracy: 0.8183 - val_loss: 0.4499 - val_accuracy: 0.7975\n",
      "Epoch 12/25\n",
      "250/250 [==============================] - 33s 132ms/step - loss: 0.3758 - accuracy: 0.8328 - val_loss: 0.4692 - val_accuracy: 0.7910\n",
      "Epoch 13/25\n",
      "250/250 [==============================] - 29s 115ms/step - loss: 0.3755 - accuracy: 0.8276 - val_loss: 0.4632 - val_accuracy: 0.7960\n",
      "Epoch 14/25\n",
      "250/250 [==============================] - 26s 103ms/step - loss: 0.3547 - accuracy: 0.8410 - val_loss: 0.4620 - val_accuracy: 0.8000\n",
      "Epoch 15/25\n",
      "250/250 [==============================] - 26s 102ms/step - loss: 0.3395 - accuracy: 0.8495 - val_loss: 0.4657 - val_accuracy: 0.7975\n",
      "Epoch 16/25\n",
      "250/250 [==============================] - 28s 112ms/step - loss: 0.3332 - accuracy: 0.8531 - val_loss: 0.4547 - val_accuracy: 0.8000\n",
      "Epoch 17/25\n",
      "250/250 [==============================] - 27s 109ms/step - loss: 0.3191 - accuracy: 0.8571 - val_loss: 0.4747 - val_accuracy: 0.7980\n",
      "Epoch 18/25\n",
      "250/250 [==============================] - 26s 103ms/step - loss: 0.3039 - accuracy: 0.8704 - val_loss: 0.4584 - val_accuracy: 0.8010\n",
      "Epoch 19/25\n",
      "250/250 [==============================] - 25s 101ms/step - loss: 0.2912 - accuracy: 0.8752 - val_loss: 0.4783 - val_accuracy: 0.7990\n",
      "Epoch 20/25\n",
      "250/250 [==============================] - 25s 100ms/step - loss: 0.2825 - accuracy: 0.8804 - val_loss: 0.6255 - val_accuracy: 0.7640\n",
      "Epoch 21/25\n",
      "250/250 [==============================] - 25s 101ms/step - loss: 0.2715 - accuracy: 0.8851 - val_loss: 0.4481 - val_accuracy: 0.8095\n",
      "Epoch 22/25\n",
      "250/250 [==============================] - 25s 101ms/step - loss: 0.2497 - accuracy: 0.9024 - val_loss: 0.4699 - val_accuracy: 0.8225\n",
      "Epoch 23/25\n",
      "250/250 [==============================] - 25s 100ms/step - loss: 0.2432 - accuracy: 0.8989 - val_loss: 0.5042 - val_accuracy: 0.8020\n",
      "Epoch 24/25\n",
      "250/250 [==============================] - 26s 102ms/step - loss: 0.2260 - accuracy: 0.9081 - val_loss: 0.5543 - val_accuracy: 0.7945\n",
      "Epoch 25/25\n",
      "250/250 [==============================] - 27s 107ms/step - loss: 0.2174 - accuracy: 0.9121 - val_loss: 0.5246 - val_accuracy: 0.8025\n"
     ]
    },
    {
     "data": {
      "text/plain": [
       "<keras.callbacks.History at 0x2189bb98610>"
      ]
     },
     "execution_count": 43,
     "metadata": {},
     "output_type": "execute_result"
    }
   ],
   "source": [
    "cnn.fit(x = training_set, validation_data = test_set, epochs = 25)"
   ]
  },
  {
   "cell_type": "code",
   "execution_count": 63,
   "metadata": {},
   "outputs": [
    {
     "name": "stdout",
     "output_type": "stream",
     "text": [
      "Epoch 1/20\n",
      "11/11 [==============================] - 3s 263ms/step - loss: 1.6462 - accuracy: 0.2514 - val_loss: 1.5459 - val_accuracy: 0.1800\n",
      "Epoch 2/20\n",
      "11/11 [==============================] - 3s 222ms/step - loss: 1.4201 - accuracy: 0.3057 - val_loss: 1.3241 - val_accuracy: 0.4400\n",
      "Epoch 3/20\n",
      "11/11 [==============================] - 3s 242ms/step - loss: 1.2951 - accuracy: 0.4057 - val_loss: 1.2101 - val_accuracy: 0.4800\n",
      "Epoch 4/20\n",
      "11/11 [==============================] - 3s 226ms/step - loss: 1.2260 - accuracy: 0.4657 - val_loss: 1.1428 - val_accuracy: 0.5000\n",
      "Epoch 5/20\n",
      "11/11 [==============================] - 3s 220ms/step - loss: 1.1525 - accuracy: 0.5143 - val_loss: 1.1025 - val_accuracy: 0.5400\n",
      "Epoch 6/20\n",
      "11/11 [==============================] - 3s 212ms/step - loss: 1.1954 - accuracy: 0.5114 - val_loss: 1.1924 - val_accuracy: 0.4000\n",
      "Epoch 7/20\n",
      "11/11 [==============================] - 3s 243ms/step - loss: 1.1513 - accuracy: 0.4771 - val_loss: 1.0413 - val_accuracy: 0.6000\n",
      "Epoch 8/20\n",
      "11/11 [==============================] - 3s 239ms/step - loss: 1.0645 - accuracy: 0.5600 - val_loss: 1.0309 - val_accuracy: 0.5600\n",
      "Epoch 9/20\n",
      "11/11 [==============================] - 3s 246ms/step - loss: 0.9719 - accuracy: 0.5857 - val_loss: 1.1036 - val_accuracy: 0.5200\n",
      "Epoch 10/20\n",
      "11/11 [==============================] - 3s 256ms/step - loss: 0.9677 - accuracy: 0.6143 - val_loss: 0.9831 - val_accuracy: 0.6800\n",
      "Epoch 11/20\n",
      "11/11 [==============================] - 3s 232ms/step - loss: 0.8724 - accuracy: 0.6600 - val_loss: 1.0638 - val_accuracy: 0.5600\n",
      "Epoch 12/20\n",
      "11/11 [==============================] - 3s 279ms/step - loss: 0.8300 - accuracy: 0.7057 - val_loss: 0.8675 - val_accuracy: 0.6800\n",
      "Epoch 13/20\n",
      "11/11 [==============================] - 3s 250ms/step - loss: 0.7841 - accuracy: 0.7171 - val_loss: 0.8143 - val_accuracy: 0.6400\n",
      "Epoch 14/20\n",
      "11/11 [==============================] - 3s 242ms/step - loss: 0.7101 - accuracy: 0.7571 - val_loss: 0.8118 - val_accuracy: 0.6400\n",
      "Epoch 15/20\n",
      "11/11 [==============================] - 3s 240ms/step - loss: 0.7017 - accuracy: 0.7571 - val_loss: 0.6955 - val_accuracy: 0.7400\n",
      "Epoch 16/20\n",
      "11/11 [==============================] - 3s 231ms/step - loss: 0.6587 - accuracy: 0.7486 - val_loss: 0.7082 - val_accuracy: 0.7200\n",
      "Epoch 17/20\n",
      "11/11 [==============================] - 3s 245ms/step - loss: 0.5883 - accuracy: 0.8029 - val_loss: 0.7689 - val_accuracy: 0.6800\n",
      "Epoch 18/20\n",
      "11/11 [==============================] - 3s 249ms/step - loss: 0.5707 - accuracy: 0.7886 - val_loss: 0.8102 - val_accuracy: 0.6800\n",
      "Epoch 19/20\n",
      "11/11 [==============================] - 3s 252ms/step - loss: 0.5086 - accuracy: 0.8029 - val_loss: 0.7848 - val_accuracy: 0.7000\n",
      "Epoch 20/20\n",
      "11/11 [==============================] - 3s 254ms/step - loss: 0.5352 - accuracy: 0.8086 - val_loss: 0.6652 - val_accuracy: 0.7400\n"
     ]
    },
    {
     "data": {
      "text/plain": [
       "<keras.callbacks.History at 0x218a10a2fd0>"
      ]
     },
     "execution_count": 63,
     "metadata": {},
     "output_type": "execute_result"
    }
   ],
   "source": [
    "cnn2.fit(x = trainingSet, validation_data = testSet, epochs = 20)"
   ]
  },
  {
   "cell_type": "markdown",
   "metadata": {
    "colab_type": "text",
    "id": "U3PZasO0006Z"
   },
   "source": [
    "## Part 4 - Making a single prediction"
   ]
  },
  {
   "cell_type": "code",
   "execution_count": 50,
   "metadata": {
    "colab": {},
    "colab_type": "code",
    "id": "gsSiWEJY1BPB"
   },
   "outputs": [
    {
     "name": "stdout",
     "output_type": "stream",
     "text": [
      "1/1 [==============================] - 1s 505ms/step\n"
     ]
    }
   ],
   "source": [
    "import numpy as np\n",
    "from keras.preprocessing import image\n",
    "test_image = tf.keras.utils.load_img('dataset/single_prediction/cat_or_dog_1.jpg', target_size = (64, 64))\n",
    "test_image = tf.keras.utils.img_to_array(test_image)\n",
    "test_image = np.expand_dims(test_image, axis = 0)\n",
    "result = cnn.predict(test_image)\n",
    "training_set.class_indices\n",
    "if result[0][0] == 1:\n",
    "  prediction = 'dog'\n",
    "else:\n",
    "  prediction = 'cat'"
   ]
  },
  {
   "cell_type": "code",
   "execution_count": 51,
   "metadata": {
    "colab": {},
    "colab_type": "code",
    "id": "ED9KB3I54c1i"
   },
   "outputs": [
    {
     "name": "stdout",
     "output_type": "stream",
     "text": [
      "dog\n"
     ]
    }
   ],
   "source": [
    "print(prediction)"
   ]
  },
  {
   "cell_type": "code",
   "execution_count": 64,
   "metadata": {},
   "outputs": [
    {
     "name": "stdout",
     "output_type": "stream",
     "text": [
      "11/11 [==============================] - 2s 192ms/step - loss: 0.4908 - accuracy: 0.8286\n",
      "2/2 [==============================] - 0s 32ms/step - loss: 0.6652 - accuracy: 0.7400\n",
      "Training Metrics: [0.4908389747142792, 0.8285714387893677]\n",
      "Validation Metrics: [0.6652107834815979, 0.7400000095367432]\n"
     ]
    }
   ],
   "source": [
    "train_metrics = cnn2.evaluate(trainingSet)\n",
    "test_metrics = cnn2.evaluate(testSet)\n",
    "\n",
    "print(\"Training Metrics:\", train_metrics)\n",
    "print(\"Validation Metrics:\", test_metrics)"
   ]
  },
  {
   "cell_type": "code",
   "execution_count": 70,
   "metadata": {},
   "outputs": [],
   "source": [
    "# from tensorflow.keras.preprocessing.image import load_img, img_to_array\n",
    "import numpy as np\n",
    "\n",
    "# Load the image\n",
    "image = tf.keras.utils.load_img(\"dataset/testing/fire2.jpeg\", target_size=(64, 64))  # Adjust the target size to match your model's input size\n",
    "\n",
    "# Convert the image to a numpy array and normalize it\n",
    "image_array = tf.keras.utils.img_to_array(image)\n",
    "image_array = image_array / 255.0  # Normalize the pixel values to [0, 1]\n",
    "\n",
    "# Reshape the image array to match the expected input shape of your model\n",
    "image_array = np.expand_dims(image_array, axis=0)"
   ]
  },
  {
   "cell_type": "code",
   "execution_count": 71,
   "metadata": {},
   "outputs": [
    {
     "name": "stdout",
     "output_type": "stream",
     "text": [
      "1/1 [==============================] - 0s 16ms/step\n"
     ]
    }
   ],
   "source": [
    "predictions = cnn2.predict(image_array)"
   ]
  },
  {
   "cell_type": "code",
   "execution_count": 72,
   "metadata": {},
   "outputs": [],
   "source": [
    "predicted_class_index = np.argmax(predictions, axis=1)"
   ]
  },
  {
   "cell_type": "code",
   "execution_count": 73,
   "metadata": {},
   "outputs": [
    {
     "name": "stdout",
     "output_type": "stream",
     "text": [
      "[2]\n"
     ]
    }
   ],
   "source": [
    "print(predicted_class_index)"
   ]
  },
  {
   "cell_type": "code",
   "execution_count": null,
   "metadata": {},
   "outputs": [],
   "source": [
    "class_labels = ['Combat', 'DestroyedBuildings', 'Fire', 'HumanitarianAid', 'Military']\n",
    "predicted_class_label = class_labels[predicted_class_index[0]]"
   ]
  },
  {
   "cell_type": "code",
   "execution_count": 74,
   "metadata": {},
   "outputs": [],
   "source": [
    "import os\n",
    "\n",
    "folder_path = \"dataset/testing\"\n",
    "image_files = [f for f in os.listdir(folder_path) if f.endswith(('.jpg', '.jpeg', '.png', '.gif'))]"
   ]
  },
  {
   "cell_type": "code",
   "execution_count": 76,
   "metadata": {},
   "outputs": [
    {
     "name": "stdout",
     "output_type": "stream",
     "text": [
      "1/1 [==============================] - 0s 18ms/step\n",
      "1/1 [==============================] - 0s 16ms/step\n",
      "1/1 [==============================] - 0s 17ms/step\n",
      "1/1 [==============================] - 0s 18ms/step\n",
      "1/1 [==============================] - 0s 17ms/step\n",
      "1/1 [==============================] - 0s 18ms/step\n",
      "1/1 [==============================] - 0s 18ms/step\n",
      "1/1 [==============================] - 0s 17ms/step\n",
      "1/1 [==============================] - 0s 18ms/step\n",
      "1/1 [==============================] - 0s 17ms/step\n"
     ]
    }
   ],
   "source": [
    "from tensorflow.keras.preprocessing.image import load_img, img_to_array\n",
    "import numpy as np\n",
    "\n",
    "predictions = []\n",
    "\n",
    "for image_file in image_files:\n",
    "    # Load and preprocess the image\n",
    "    image_path = os.path.join(folder_path, image_file)\n",
    "    image = load_img(image_path, target_size=(64, 64))  # Adjust the target size to match your model's input size\n",
    "    image_array = img_to_array(image)\n",
    "    image_array = image_array / 255.0  # Normalize the pixel values to [0, 1]\n",
    "    image_array = np.expand_dims(image_array, axis=0)\n",
    "\n",
    "    # Make predictions\n",
    "    predictions_for_image = cnn2.predict(image_array)\n",
    "\n",
    "    # Store the predictions and the corresponding image file name\n",
    "    predictions.append((image_file, predictions_for_image))"
   ]
  },
  {
   "cell_type": "code",
   "execution_count": 82,
   "metadata": {},
   "outputs": [
    {
     "data": {
      "text/plain": [
       "[('building1.jpeg',\n",
       "  array([[5.5328286e-03, 9.8950374e-01, 3.2577573e-03, 1.4267617e-03,\n",
       "          2.7889039e-04]], dtype=float32)),\n",
       " ('building2.jpeg',\n",
       "  array([[0.0305383 , 0.70732254, 0.01465762, 0.24543883, 0.00204285]],\n",
       "        dtype=float32)),\n",
       " ('combat1.jpeg',\n",
       "  array([[0.3727727 , 0.22813998, 0.00266462, 0.38300934, 0.01341338]],\n",
       "        dtype=float32)),\n",
       " ('combat2.jpeg',\n",
       "  array([[0.75023454, 0.03939456, 0.00075613, 0.20870428, 0.00091052]],\n",
       "        dtype=float32)),\n",
       " ('fire1.jpeg',\n",
       "  array([[9.2198587e-09, 3.6345469e-08, 9.9672592e-01, 3.2740701e-03,\n",
       "          6.9400603e-15]], dtype=float32)),\n",
       " ('fire2.jpeg',\n",
       "  array([[1.1693233e-23, 4.9440242e-36, 1.0000000e+00, 1.3028020e-14,\n",
       "          0.0000000e+00]], dtype=float32)),\n",
       " ('military1.jpeg',\n",
       "  array([[0.4022992 , 0.42897835, 0.00258328, 0.01901155, 0.1471276 ]],\n",
       "        dtype=float32)),\n",
       " ('military2.jpeg',\n",
       "  array([[1.2988360e-01, 1.7533476e-03, 4.5239613e-05, 4.2303256e-03,\n",
       "          8.6408746e-01]], dtype=float32)),\n",
       " ('rehab1.jpeg',\n",
       "  array([[4.4945446e-01, 2.5821151e-03, 1.2060680e-03, 5.4632550e-01,\n",
       "          4.3184057e-04]], dtype=float32)),\n",
       " ('rehab2.jpeg',\n",
       "  array([[4.0948746e-01, 1.4154284e-02, 1.8025887e-03, 5.7452172e-01,\n",
       "          3.4036035e-05]], dtype=float32))]"
      ]
     },
     "execution_count": 82,
     "metadata": {},
     "output_type": "execute_result"
    }
   ],
   "source": [
    "predictions"
   ]
  },
  {
   "cell_type": "code",
   "execution_count": null,
   "metadata": {},
   "outputs": [],
   "source": []
  }
 ],
 "metadata": {
  "colab": {
   "collapsed_sections": [],
   "name": "convolutional_neural_network.ipynb",
   "provenance": [],
   "toc_visible": true
  },
  "kernelspec": {
   "display_name": "Python 3 (ipykernel)",
   "language": "python",
   "name": "python3"
  },
  "language_info": {
   "codemirror_mode": {
    "name": "ipython",
    "version": 3
   },
   "file_extension": ".py",
   "mimetype": "text/x-python",
   "name": "python",
   "nbconvert_exporter": "python",
   "pygments_lexer": "ipython3",
   "version": "3.11.1"
  }
 },
 "nbformat": 4,
 "nbformat_minor": 1
}
